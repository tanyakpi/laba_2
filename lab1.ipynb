{
 "cells": [
  {
   "cell_type": "markdown",
   "metadata": {
    "collapsed": true
   },
   "source": [
    "# Лабораторна Робота №1\n",
    "\n",
    "Бабенко Тетяна ФІ-41\n",
    "\n",
    "<b>Тема</b>: Наука про дані: підготовчий етап <br><br>\n",
    "<b>Мета роботи</b>: ознайомитися з основними кроками по роботі з даними – workflow від постановки задачі до написання пояснювальної записки, зрозуміти постановку задачі та природу даних, над якими виконується аналітичні операції"
   ]
  },
  {
   "cell_type": "code",
   "execution_count": 67,
   "metadata": {
    "collapsed": false
   },
   "outputs": [],
   "source": [
    "# -*- coding: utf-8 -*-\n",
    "import urllib2\n",
    "import pandas as pd\n",
    "import numpy as np\n",
    "import csv\n",
    "import time\n",
    "import pprint\n",
    "from array import array\n",
    "#Бібліотека для роботи з графіками\n",
    "import matplotlib.pyplot as plt\n",
    "%matplotlib inline\n",
    "\n",
    "#Функція, яка повертає справжній id країни з сайту \n",
    "def get_id(id):\n",
    "    S=[24,25,5,6,27,23,26,7,11,13,14,15,16,17,18,19,21,22,8,9,10,1,3,2,4]\n",
    "    return S[id-1]    \n",
    "\n",
    "#Функція, яка повертає ім'я регіону\n",
    "def get_name(id):  \n",
    "    return {\n",
    "        1: \"Vinnitsa\",\n",
    "        2: \"Volyn\",\n",
    "        3: \"Dnipropetrovsk\",\n",
    "        4: \"Donetsk\",\n",
    "        5: \"Zhytomyr\",\n",
    "        6: \"Zakarpattya\",\n",
    "        7: \"Zaporizhzhya\",\n",
    "        8: \"Ivano-Frankivsk\",\n",
    "        9: \"Kyiv\",\n",
    "       10: \"Kirovograd\",\n",
    "       11: \"Lugansk\",\n",
    "       12: \"Lviv\",\n",
    "       13: \"Nicholas\",\n",
    "       14: \"Odessa\",\n",
    "       15: \"Poltava\",\n",
    "       16: \"Rivne\",\n",
    "       17: \"Sums\",\n",
    "       18: \"Ternopil\",\n",
    "       19: \"Kharkiv\",\n",
    "       20: \"Kherson\",\n",
    "       21: \"Khmelnytsky\",\n",
    "       22: \"Cherkasy\",\n",
    "       23: \"Chernivtsi\",\n",
    "       24: \"Chernihiv\",\n",
    "       25: \"Republic of Crimea\",\n",
    "    }.get(id, \"nothing\")"
   ]
  },
  {
   "cell_type": "code",
   "execution_count": 68,
   "metadata": {
    "collapsed": true
   },
   "outputs": [],
   "source": [
    "#Функція, якак повертає ім'я файлу, що завантажується\n",
    "def filename(id,state):\n",
    "    strtime = time.strftime(\"%Y-%m-%d_%Hh%Mm%Ss\")\n",
    "    id = str(id)\n",
    "    file_name = 'id_'+id+'_'+state+'_'+strtime+'.csv' \n",
    "    return file_name\n",
    "\n",
    "#Функція збереження файлу до домашнього каталогу\n",
    "def save(id, file):\n",
    "    if (id<10):\n",
    "        url=r\"http://www.star.nesdis.noaa.gov/smcd/emb/vci/gvix/G04/ts_L1/ByProvince/Mean/L1_Mean_UKR.R0%s.txt\" % id\n",
    "    elif (id>10):\n",
    "        url=r\"http://www.star.nesdis.noaa.gov/smcd/emb/vci/gvix/G04/ts_L1/ByProvince/Mean/L1_Mean_UKR.R%s.txt\" % id\n",
    "    else: \n",
    "        print(\"Error!\")\n",
    "    vhi_url = urllib2.urlopen(url)    \n",
    "    out = open(\"/home/tania/datascience/lab_1/data/%s\" % file,'wb') \n",
    "    out.write(vhi_url.read())    \n",
    "    out.close()    \n",
    "    print \"VHI is downloaded...\""
   ]
  },
  {
   "cell_type": "code",
   "execution_count": 69,
   "metadata": {
    "collapsed": true
   },
   "outputs": [],
   "source": [
    "#Функція, яка завантажує csv-файл до фрейму та видаляє -1 і непотрібні символи\n",
    "#Сирі дані містятья у каталозі rawdata, а відформатовані у каталог freshdata\n",
    "def readtoframe(file):\n",
    "    name_columns = ['Year','Week','SMN','SMT','VCI','TCI','VHI','Area-VHI-LESS-15','Area-VHI-LESS-35']   \n",
    "    df = pd.read_csv(r\"/home/tania/datascience/lab_1/data/%s\" % file, header=1) #, index_col=False\n",
    "    df.columns = name_columns  \n",
    "    df = df[df.VHI != -1.0]      \n",
    "    new_file = 'new_' + file\n",
    "    df.to_csv(r\"/home/tania/datascience/lab_1/newdata/%s\" % new_file)\n",
    "    \n",
    "    "
   ]
  },
  {
   "cell_type": "code",
   "execution_count": 70,
   "metadata": {
    "collapsed": false
   },
   "outputs": [],
   "source": [
    "#Функція, яка виводить мінімальний VHI та рік в якому він був, для певного регіону за всі роки\n",
    "def VHI_min(file,state):\n",
    "    df = pd.read_csv(r\"/home/tania/datascience/lab_1/newdata/%s\" % file) \n",
    "    print('\\nMIN_VHI_'+state+': '+str(df.VHI.min()))\n",
    "    df = df[df['VHI']==df['VHI'].min()]\n",
    "    print(int(df.iloc[0,1]))\n",
    "      \n",
    "#Функція, яка виводить максимальний VHI та рік в якому він був, для певного регіону за всі роки\n",
    "def VHI_max(file,state):\n",
    "    df = pd.read_csv(r\"/home/tania/datascience/lab_1/newdata/%s\" % file) \n",
    "    print('\\nMAX_VHI_'+state+': '+str(df['VHI'].max()))\n",
    "    df = df[df['VHI']==df['VHI'].max()]\n",
    "    print(int(df.iloc[0,1]))   \n",
    "\n",
    "#Функція, яка виводить рік та тиждень в яких VHI<15   \n",
    "def VHI_drought(file,state):\n",
    "    df = pd.read_csv(r\"/home/tania/datascience/lab_1/newdata/%s\" % file) \n",
    "    df=df[df['VHI']<15]\n",
    "    print('\\nDrought in '+state+' was:')\n",
    "    print df.loc[:,['Year','Week','VHI']] \n",
    "    \n",
    " "
   ]
  },
  {
   "cell_type": "code",
   "execution_count": 71,
   "metadata": {
    "collapsed": false
   },
   "outputs": [],
   "source": [
    "#Функція, яка будує графіки за певний рік\n",
    "#Графіки будуються для певної області за рік, які показують залежність аномальні VHI від тижня року. \n",
    "def Plot_build(file,state,year1,year2):     \n",
    "    \n",
    "    title = state+' VHI'+' '+str(year1)+'-'+str(year2)\n",
    "    \n",
    "    i = 0\n",
    "    while (year1<=year2):  \n",
    "        df = pd.read_csv(r\"/home/tania/datascience/lab_1/newdata/%s\" % file) \n",
    "        df_new=df[(df['Year']==year1)]\n",
    "        df_new=df_new.loc[:,['Year','Week','VHI']]  \n",
    "        plt.plot((df_new['Week']+(52*i)), df_new['VHI'], label=str(year1))\n",
    "        i=i+1\n",
    "        year1=year1+1\n",
    "    plt.title(title,fontsize=20)\n",
    "    plt.figure(figsize=(10,5))\n",
    "    plt.xlabel('Week')\n",
    "    plt.ylabel('VHI')\n",
    "    plt.ylim(0,100)\n",
    "    plt.legend()\n",
    "    plt.grid()  \n",
    "   \n",
    "    #return plt.gcf()\n",
    "\n",
    "def Plot_build2(file,state,year1,year2):  \n",
    "    title = state+' Average VHI'+' '+str(year1)+'-'+str(year2)\n",
    "    plt.ylim(0,100)\n",
    "    plt.xlim(year1,year2)\n",
    "    plt.xlabel('Year')\n",
    "    plt.ylabel('VHI')\n",
    "    while (year1<=year2):  \n",
    "        df = pd.read_csv(r\"/home/tania/datascience/lab_1/newdata/%s\" % file) \n",
    "        df_new=df[(df['Year']==year1)]\n",
    "        df_new=df_new.loc[:,['Year','Week','VHI']]  \n",
    "        plt.scatter(year1 ,df_new['VHI'].mean(), label=str(year1), color='red')\n",
    "        year1=year1+1\n",
    "        \n",
    "    plt.title(title,fontsize=20)\n",
    "    plt.grid()  \n",
    "    #return plt.gcf() "
   ]
  },
  {
   "cell_type": "code",
   "execution_count": 72,
   "metadata": {
    "collapsed": false
   },
   "outputs": [
    {
     "name": "stdout",
     "output_type": "stream",
     "text": [
      "VHI is downloaded...\n",
      "File: id_24_Vinnitsa_2016-04-24_15h35m05s.csv\n",
      "\n",
      "\n",
      "MIN_VHI_Vinnitsa: 12.03\n",
      "2000\n",
      "\n",
      "MAX_VHI_Vinnitsa: 87.62\n",
      "1993\n",
      "\n",
      "Drought in Vinnitsa was:\n",
      "      Year  Week    VHI\n",
      "968   2000    47  14.65\n",
      "969   2000    48  12.03\n",
      "970   2000    49  13.18\n",
      "1735  2015    34  14.29\n",
      "1736  2015    35  12.88\n",
      "1737  2015    36  14.74\n"
     ]
    },
    {
     "data": {
      "image/png": "[encoded data removed]",
      "text/plain": [
       "<matplotlib.figure.Figure at 0x7f1da7ec6190>"
      ]
     },
     "metadata": {},
     "output_type": "display_data"
    },
    {
     "data": {
      "image/png": "[encoded data removed]",
      "text/plain": [
       "<matplotlib.figure.Figure at 0x7f1da81b1910>"
      ]
     },
     "metadata": {},
     "output_type": "display_data"
    }
   ],
   "source": [
    "id = 1\n",
    "year1=1986\n",
    "year2=1997\n",
    "state = get_name(id)\n",
    "new_id = get_id(id)\n",
    "file_name = filename(new_id,state)\n",
    "new_file_name = 'new_' + file_name\n",
    "save(new_id,file_name)\n",
    "print('File: '+file_name+'\\n')\n",
    "readtoframe(file_name)\n",
    "VHI_min(new_file_name,state)\n",
    "VHI_max(new_file_name,state)\n",
    "VHI_drought(new_file_name,state)\n",
    "Plot_build(new_file_name,state,year1,year2)\n",
    "Plot_build2(new_file_name,state,year1,year2)"
   ]
  },
  {
   "cell_type": "markdown",
   "metadata": {
    "collapsed": true
   },
   "source": [
    "# Висновок\n",
    "На цій лабораторній роботі я отримала елементарні знання в області DataScience. Дані для дослідження були взяті з сайту http://www.star.nesdis.noaa.gov. Цей сайт є центром по застосуванню супутникових систем і досліджень процесів, які відбуваються на нашій планеті. Дані, які я використовувала пов'язані з індексом VHI - це вегетаційний індекс, який базується на відбитті видимого світла рослинним покривом. Вони були досліджені для різних областей України. Так звані сирі дані(raw data) були завантажені до фрейму та змінені відповідно до завдання. Було виконане додаткове завдання для виведення аномальних показників VHI.\n",
    "Побудовано графіки для певної області за різні роки, які показують залежність аномального VHI індексу від тижня року. "
   ]
  }
 ],
 "metadata": {
  "kernelspec": {
   "display_name": "Python 2",
   "language": "python",
   "name": "python2"
  },
  "language_info": {
   "codemirror_mode": {
    "name": "ipython",
    "version": 2
   },
   "file_extension": ".py",
   "mimetype": "text/x-python",
   "name": "python",
   "nbconvert_exporter": "python",
   "pygments_lexer": "ipython2",
   "version": "2.7.6"
  }
 },
 "nbformat": 4,
 "nbformat_minor": 0
}
